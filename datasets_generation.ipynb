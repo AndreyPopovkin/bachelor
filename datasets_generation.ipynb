{
 "cells": [
  {
   "cell_type": "code",
   "execution_count": 1,
   "metadata": {},
   "outputs": [
    {
     "name": "stdout",
     "output_type": "stream",
     "text": [
      "\n",
      "WARNING: The TensorFlow contrib module will not be included in TensorFlow 2.0.\n",
      "For more information, please see:\n",
      "  * https://github.com/tensorflow/community/blob/master/rfcs/20180907-contrib-sunset.md\n",
      "  * https://github.com/tensorflow/addons\n",
      "If you depend on functionality not listed there, please file an issue.\n",
      "\n"
     ]
    }
   ],
   "source": [
    "from __future__ import absolute_import\n",
    "from __future__ import division\n",
    "from __future__ import print_function\n",
    "\n",
    "import os\n",
    "import numpy as np\n",
    "import pandas as pd\n",
    "import warnings\n",
    "from matplotlib import pyplot as plt\n",
    "from matplotlib.cm import rainbow\n",
    "import collections\n",
    "from tqdm import tqdm_notebook as tqdm\n",
    "import scipy.stats as sps\n",
    "import pickle\n",
    "\n",
    "import tensorflow as tf\n",
    "import tensorflow_probability as tfp\n",
    "from IPython.display import clear_output\n",
    "\n",
    "%matplotlib inline\n",
    "\n",
    "\n",
    "tfd = tfp.distributions"
   ]
  },
  {
   "cell_type": "code",
   "execution_count": 2,
   "metadata": {},
   "outputs": [
    {
     "name": "stdout",
     "output_type": "stream",
     "text": [
      "Overwriting datasets.py\n"
     ]
    }
   ],
   "source": [
    "%%writefile datasets.py\n",
    "\n",
    "import numpy as np\n",
    "import scipy.stats as sps\n",
    "import pickle\n",
    "\n",
    "class DataSet:\n",
    "    \n",
    "    def __init__(self, count=100, nClasses=10, L=20, alpha_high=1, beta_high=10, scale=30, random_seed=42):\n",
    "        np.random.seed(seed=random_seed)\n",
    "        s = sps.expon.rvs(scale=scale, size=count)\n",
    "        m = sps.beta.rvs(alpha_high, beta_high, size=count)\n",
    "        \n",
    "        self.alpha0 = s * m\n",
    "        self.beta0 = s * (1 - m)\n",
    "        self.p = sps.beta.rvs(self.alpha0, self.beta0, size=(nClasses, count)).T\n",
    "        self.train_data = sps.binom.rvs(n=L, p=self.p)\n",
    "        self.val_data = sps.binom.rvs(n=L, p=self.p)\n",
    "        self.ideal = sps.binom.rvs(n=10 ** 6, p=self.p)\n",
    "        \n",
    "def load_data_set(filename):\n",
    "    with open(filename, 'rb') as input_:\n",
    "        return pickle.load(input_)\n",
    "        \n",
    "def save_data_set(filename, dataset):\n",
    "    with open(filename, 'wb') as output:\n",
    "        pickle.dump(dataset, output, pickle.HIGHEST_PROTOCOL)"
   ]
  },
  {
   "cell_type": "code",
   "execution_count": 7,
   "metadata": {},
   "outputs": [],
   "source": [
    "from datasets import *"
   ]
  },
  {
   "cell_type": "code",
   "execution_count": 8,
   "metadata": {},
   "outputs": [],
   "source": [
    "data_set_small = DataSet(100, 10)\n",
    "data_set_big = DataSet(100, 100)\n",
    "data_set_super = DataSet(3, 1000)"
   ]
  },
  {
   "cell_type": "code",
   "execution_count": 9,
   "metadata": {
    "scrolled": true
   },
   "outputs": [
    {
     "data": {
      "image/png": "[encoded data removed]",
      "text/plain": [
       "<Figure size 432x288 with 1 Axes>"
      ]
     },
     "metadata": {
      "needs_background": "light"
     },
     "output_type": "display_data"
    },
    {
     "data": {
      "text/plain": [
       "(array([ 1.30220964, 16.55912986,  5.1140643 ]),\n",
       " array([12.77583306, 73.74451307, 34.3883065 ]))"
      ]
     },
     "execution_count": 9,
     "metadata": {},
     "output_type": "execute_result"
    }
   ],
   "source": [
    "plt.hist(data_set_super.p[0], bins=100)\n",
    "plt.show()\n",
    "data_set_super.alpha0, data_set_super.beta0"
   ]
  },
  {
   "cell_type": "code",
   "execution_count": 10,
   "metadata": {},
   "outputs": [
    {
     "name": "stdout",
     "output_type": "stream",
     "text": [
      "mkdir: cannot create directory ‘datasets’: File exists\r\n"
     ]
    }
   ],
   "source": [
    "! mkdir datasets"
   ]
  },
  {
   "cell_type": "code",
   "execution_count": 11,
   "metadata": {},
   "outputs": [],
   "source": [
    "save_data_set(\"./datasets/100.10\", data_set_small)\n",
    "save_data_set(\"./datasets/100.100\", data_set_big)"
   ]
  },
  {
   "cell_type": "code",
   "execution_count": null,
   "metadata": {},
   "outputs": [],
   "source": []
  }
 ],
 "metadata": {
  "kernelspec": {
   "display_name": "Python 3",
   "language": "python",
   "name": "python3"
  },
  "language_info": {
   "codemirror_mode": {
    "name": "ipython",
    "version": 3
   },
   "file_extension": ".py",
   "mimetype": "text/x-python",
   "name": "python",
   "nbconvert_exporter": "python",
   "pygments_lexer": "ipython3",
   "version": "3.5.2"
  }
 },
 "nbformat": 4,
 "nbformat_minor": 2
}
