{
 "cells": [
  {
   "cell_type": "code",
   "execution_count": 1,
   "metadata": {},
   "outputs": [
    {
     "name": "stdout",
     "output_type": "stream",
     "text": [
      "\n",
      "WARNING: The TensorFlow contrib module will not be included in TensorFlow 2.0.\n",
      "For more information, please see:\n",
      "  * https://github.com/tensorflow/community/blob/master/rfcs/20180907-contrib-sunset.md\n",
      "  * https://github.com/tensorflow/addons\n",
      "If you depend on functionality not listed there, please file an issue.\n",
      "\n"
     ]
    }
   ],
   "source": [
    "from __future__ import absolute_import\n",
    "from __future__ import division\n",
    "from __future__ import print_function\n",
    "\n",
    "import os\n",
    "import numpy as np\n",
    "import pandas as pd\n",
    "import warnings\n",
    "from matplotlib import pyplot as plt\n",
    "from matplotlib.cm import rainbow\n",
    "import collections\n",
    "from tqdm import tqdm_notebook as tqdm\n",
    "import scipy.stats as sps\n",
    "import pickle\n",
    "\n",
    "import tensorflow as tf\n",
    "import tensorflow_probability as tfp\n",
    "from IPython.display import clear_output\n",
    "\n",
    "%matplotlib inline\n",
    "\n",
    "\n",
    "tfd = tfp.distributions"
   ]
  },
  {
   "cell_type": "code",
   "execution_count": 2,
   "metadata": {},
   "outputs": [],
   "source": [
    "from datasets import *"
   ]
  },
  {
   "cell_type": "code",
   "execution_count": 3,
   "metadata": {},
   "outputs": [],
   "source": [
    "data_set_small = load_data_set('./datasets/100.10')\n",
    "data_set_big = load_data_set('./datasets/100.100')"
   ]
  },
  {
   "cell_type": "code",
   "execution_count": 4,
   "metadata": {},
   "outputs": [
    {
     "name": "stdout",
     "output_type": "stream",
     "text": [
      "Overwriting basic_solutions.py\n"
     ]
    }
   ],
   "source": [
    "%%writefile basic_solutions.py\n",
    "\n",
    "import numpy as np\n",
    "from scipy.optimize import minimize\n",
    "\n",
    "def bayesian_solve(alpha0, beta0, train, L):\n",
    "    return (train + alpha0 - 1) / (L + alpha0 + beta0 - 2)\n",
    "\n",
    "def calc_loglike(p_pred, val, L):\n",
    "    return (val * np.log(p_pred)).sum() + ((L - val) * np.log(1 - p_pred)).sum()\n",
    "\n",
    "def calc_bayesian_solve_loglike(alpha0, beta0, train, val, L):\n",
    "    p_pred = bayesian_solve(alpha0, beta0, train, L)\n",
    "    return calc_loglike(p_pred, val, L)\n",
    "\n",
    "def stupid_solution(train, val, L):\n",
    "    return (train + val + 1e-4) / 2 / (L + 2e-4)\n",
    "\n",
    "def evaluate(solution_fun, train, val, test, L):\n",
    "    p_pred = solution_fun(train, val, L)\n",
    "    p_const = (train.sum() + val.sum()) / L / 2 / train.shape[0]\n",
    "    return (calc_loglike(p_pred, test, 1e6) - calc_loglike(p_const, test, 1e6)) / 1e6 / test.shape[0]\n",
    "\n",
    "def max_loglike_solution(train, val, L):\n",
    "    loglike = lambda x: calc_bayesian_solve_loglike(x[0], x[1], train, val, L)\n",
    "    res = minimize(fun=lambda x: -loglike(1 + np.exp(x)), x0=(1, 1))\n",
    "    if not res.success:\n",
    "        return stupid_solution(train, val, L)\n",
    "    else:\n",
    "        return bayesian_solve(1 + np.exp(res.x[0]), 1 + np.exp(res.x[1]), train + val, L * 2)"
   ]
  },
  {
   "cell_type": "code",
   "execution_count": 5,
   "metadata": {},
   "outputs": [
    {
     "data": {
      "text/plain": [
       "0.018340855186884244"
      ]
     },
     "execution_count": 5,
     "metadata": {},
     "output_type": "execute_result"
    }
   ],
   "source": [
    "from basic_solutions import *\n",
    "\n",
    "evaluate(stupid_solution, data_set_small.train_data[0], data_set_small.test_data[0], data_set_small.ideal[0], data_set_small.L)"
   ]
  },
  {
   "cell_type": "code",
   "execution_count": 43,
   "metadata": {},
   "outputs": [],
   "source": [
    "def calibration_curve_solution(train, val, L):\n",
    "    line = sps.linregress(val / L, train / L)\n",
    "    tg = 1 / line.slope\n",
    "    sum_ab = tg * L - L + 2\n",
    "    m = ((train + val) / 2 / L).mean()\n",
    "    if m * sum_ab < 1:\n",
    "        sum_ab = 1 / m * 20\n",
    "    return bayesian_solve(m * sum_ab, sum_ab * (1 - m), train + val, 2 * L)\n",
    "    \n",
    "def pceudo_cc_solution(train, val, L):\n",
    "    m = ((train + val) / 2. / L).mean()\n",
    "    sq_std = ((train + val) / 2. / L).std() ** 2\n",
    "    sum_ab = m * (1 - m)/ sq_std\n",
    "    if m * sum_ab < 1:\n",
    "        sum_ab = 1 / m * 20\n",
    "    return bayesian_solve(m * sum_ab, sum_ab * (1 - m), train + val, 2 * L)\n",
    "    \n",
    "def max_loglike_solution2(train, val, L):\n",
    "    loglike = lambda x: calc_bayesian_solve_loglike(x[0], x[1], train, val, L)\n",
    "    res = minimize(fun=lambda x: -loglike(1 + np.exp(x)), x0=(1, 1))\n",
    "    if not res.success:\n",
    "        return stupid_solution(train, val, L)\n",
    "    else:\n",
    "        return bayesian_solve(1 + np.exp(res.x[0]), 1 + np.exp(res.x[1]), train, L)"
   ]
  },
  {
   "cell_type": "code",
   "execution_count": 48,
   "metadata": {},
   "outputs": [],
   "source": [
    "def evaluate_compare(solutions, ds, plot=False, labels=[]):\n",
    "    llps = [[] for _ in solutions]\n",
    "    for t_id in range(ds.train_data.shape[0]):\n",
    "        for i, solution in enumerate(solutions):\n",
    "            score = evaluate(solution, ds.train_data[t_id], ds.test_data[t_id], ds.ideal[t_id], ds.L)\n",
    "            llps[i].append(score)\n",
    "\n",
    "            \n",
    "    min_ = 1e9\n",
    "    max_ = -1e9\n",
    "    ans = []\n",
    "    \n",
    "    good = np.ones(len(llps[0]), dtype=np.bool)\n",
    "    for solution_scores in llps:\n",
    "        sc = np.array(solution_scores)\n",
    "        good &= sc == sc\n",
    "        good &= sc != np.inf\n",
    "        good &= sc != float(\"-inf\")\n",
    "    \n",
    "    for solution_scores in llps:\n",
    "        sc = np.array(solution_scores)\n",
    "        ans.append((sc[good].mean(), good.sum()))\n",
    "        min_ = min(min_, sc[good].min())\n",
    "        max_ = max(max_, sc[good].max())\n",
    "\n",
    "        \n",
    "    if plot:\n",
    "        for i, label in enumerate(labels):\n",
    "            plt.hist(llps[i], bins=20, alpha=0.5, label=label, range=(min_, max_))\n",
    "        plt.legend()\n",
    "        plt.grid()\n",
    "        plt.show()\n",
    "        \n",
    "    return ans"
   ]
  },
  {
   "cell_type": "code",
   "execution_count": 49,
   "metadata": {
    "scrolled": false
   },
   "outputs": [
    {
     "name": "stdout",
     "output_type": "stream",
     "text": [
      "10\n"
     ]
    },
    {
     "name": "stderr",
     "output_type": "stream",
     "text": [
      "/home/aapopovkin/venv/lib/python3.5/site-packages/scipy/stats/_stats_mstats_common.py:107: RuntimeWarning: invalid value encountered in double_scalars\n",
      "  slope = r_num / ssxm\n",
      "/home/aapopovkin/venv/lib/python3.5/site-packages/scipy/stats/_stats_mstats_common.py:119: RuntimeWarning: divide by zero encountered in double_scalars\n",
      "  sterrest = np.sqrt((1 - r**2) * ssym / ssxm / df)\n",
      "/home/aapopovkin/dip/bachelor/basic_solutions.py:9: RuntimeWarning: divide by zero encountered in log\n",
      "  return (val * np.log(p_pred)).sum() + ((L - val) * np.log(1 - p_pred)).sum()\n",
      "/home/aapopovkin/venv/lib/python3.5/site-packages/scipy/stats/_stats_mstats_common.py:107: RuntimeWarning: invalid value encountered in double_scalars\n",
      "  slope = r_num / ssxm\n",
      "/home/aapopovkin/venv/lib/python3.5/site-packages/scipy/stats/_stats_mstats_common.py:119: RuntimeWarning: invalid value encountered in double_scalars\n",
      "  sterrest = np.sqrt((1 - r**2) * ssym / ssxm / df)\n",
      "/home/aapopovkin/venv/lib/python3.5/site-packages/ipykernel_launcher.py:13: RuntimeWarning: invalid value encountered in double_scalars\n",
      "  del sys.path[0]\n",
      "/home/aapopovkin/venv/lib/python3.5/site-packages/ipykernel_launcher.py:3: RuntimeWarning: divide by zero encountered in double_scalars\n",
      "  This is separate from the ipykernel package so we can avoid doing imports until\n",
      "/home/aapopovkin/dip/bachelor/basic_solutions.py:6: RuntimeWarning: invalid value encountered in true_divide\n",
      "  return (train + alpha0 - 1) / (L + alpha0 + beta0 - 2)\n",
      "/home/aapopovkin/venv/lib/python3.5/site-packages/scipy/stats/_stats_mstats_common.py:107: RuntimeWarning: invalid value encountered in double_scalars\n",
      "  slope = r_num / ssxm\n",
      "/home/aapopovkin/venv/lib/python3.5/site-packages/scipy/stats/_stats_mstats_common.py:119: RuntimeWarning: divide by zero encountered in double_scalars\n",
      "  sterrest = np.sqrt((1 - r**2) * ssym / ssxm / df)\n",
      "/home/aapopovkin/venv/lib/python3.5/site-packages/ipykernel_launcher.py:3: RuntimeWarning: divide by zero encountered in double_scalars\n",
      "  This is separate from the ipykernel package so we can avoid doing imports until\n",
      "/home/aapopovkin/dip/bachelor/basic_solutions.py:6: RuntimeWarning: invalid value encountered in true_divide\n",
      "  return (train + alpha0 - 1) / (L + alpha0 + beta0 - 2)\n",
      "/home/aapopovkin/venv/lib/python3.5/site-packages/ipykernel_launcher.py:3: RuntimeWarning: divide by zero encountered in double_scalars\n",
      "  This is separate from the ipykernel package so we can avoid doing imports until\n",
      "/home/aapopovkin/dip/bachelor/basic_solutions.py:6: RuntimeWarning: invalid value encountered in true_divide\n",
      "  return (train + alpha0 - 1) / (L + alpha0 + beta0 - 2)\n",
      "/home/aapopovkin/venv/lib/python3.5/site-packages/scipy/stats/_stats_mstats_common.py:107: RuntimeWarning: invalid value encountered in double_scalars\n",
      "  slope = r_num / ssxm\n",
      "/home/aapopovkin/venv/lib/python3.5/site-packages/scipy/stats/_stats_mstats_common.py:119: RuntimeWarning: divide by zero encountered in double_scalars\n",
      "  sterrest = np.sqrt((1 - r**2) * ssym / ssxm / df)\n",
      "/home/aapopovkin/dip/bachelor/basic_solutions.py:9: RuntimeWarning: divide by zero encountered in log\n",
      "  return (val * np.log(p_pred)).sum() + ((L - val) * np.log(1 - p_pred)).sum()\n",
      "/home/aapopovkin/venv/lib/python3.5/site-packages/scipy/stats/_stats_mstats_common.py:107: RuntimeWarning: invalid value encountered in double_scalars\n",
      "  slope = r_num / ssxm\n",
      "/home/aapopovkin/venv/lib/python3.5/site-packages/scipy/stats/_stats_mstats_common.py:119: RuntimeWarning: invalid value encountered in double_scalars\n",
      "  sterrest = np.sqrt((1 - r**2) * ssym / ssxm / df)\n",
      "/home/aapopovkin/venv/lib/python3.5/site-packages/ipykernel_launcher.py:13: RuntimeWarning: invalid value encountered in double_scalars\n",
      "  del sys.path[0]\n",
      "/home/aapopovkin/venv/lib/python3.5/site-packages/scipy/stats/_stats_mstats_common.py:107: RuntimeWarning: invalid value encountered in double_scalars\n",
      "  slope = r_num / ssxm\n",
      "/home/aapopovkin/venv/lib/python3.5/site-packages/scipy/stats/_stats_mstats_common.py:119: RuntimeWarning: divide by zero encountered in double_scalars\n",
      "  sterrest = np.sqrt((1 - r**2) * ssym / ssxm / df)\n",
      "/home/aapopovkin/dip/bachelor/basic_solutions.py:9: RuntimeWarning: divide by zero encountered in log\n",
      "  return (val * np.log(p_pred)).sum() + ((L - val) * np.log(1 - p_pred)).sum()\n",
      "/home/aapopovkin/venv/lib/python3.5/site-packages/scipy/stats/_stats_mstats_common.py:107: RuntimeWarning: invalid value encountered in double_scalars\n",
      "  slope = r_num / ssxm\n",
      "/home/aapopovkin/venv/lib/python3.5/site-packages/scipy/stats/_stats_mstats_common.py:119: RuntimeWarning: invalid value encountered in double_scalars\n",
      "  sterrest = np.sqrt((1 - r**2) * ssym / ssxm / df)\n",
      "/home/aapopovkin/venv/lib/python3.5/site-packages/ipykernel_launcher.py:13: RuntimeWarning: invalid value encountered in double_scalars\n",
      "  del sys.path[0]\n",
      "/home/aapopovkin/venv/lib/python3.5/site-packages/ipykernel_launcher.py:3: RuntimeWarning: divide by zero encountered in double_scalars\n",
      "  This is separate from the ipykernel package so we can avoid doing imports until\n",
      "/home/aapopovkin/dip/bachelor/basic_solutions.py:6: RuntimeWarning: invalid value encountered in true_divide\n",
      "  return (train + alpha0 - 1) / (L + alpha0 + beta0 - 2)\n",
      "/home/aapopovkin/venv/lib/python3.5/site-packages/scipy/stats/_stats_mstats_common.py:107: RuntimeWarning: invalid value encountered in double_scalars\n",
      "  slope = r_num / ssxm\n",
      "/home/aapopovkin/venv/lib/python3.5/site-packages/scipy/stats/_stats_mstats_common.py:119: RuntimeWarning: divide by zero encountered in double_scalars\n",
      "  sterrest = np.sqrt((1 - r**2) * ssym / ssxm / df)\n",
      "/home/aapopovkin/venv/lib/python3.5/site-packages/ipykernel_launcher.py:3: RuntimeWarning: divide by zero encountered in double_scalars\n",
      "  This is separate from the ipykernel package so we can avoid doing imports until\n",
      "/home/aapopovkin/dip/bachelor/basic_solutions.py:6: RuntimeWarning: invalid value encountered in true_divide\n",
      "  return (train + alpha0 - 1) / (L + alpha0 + beta0 - 2)\n",
      "/home/aapopovkin/venv/lib/python3.5/site-packages/ipykernel_launcher.py:3: RuntimeWarning: divide by zero encountered in double_scalars\n",
      "  This is separate from the ipykernel package so we can avoid doing imports until\n",
      "/home/aapopovkin/dip/bachelor/basic_solutions.py:6: RuntimeWarning: invalid value encountered in true_divide\n",
      "  return (train + alpha0 - 1) / (L + alpha0 + beta0 - 2)\n",
      "/home/aapopovkin/dip/bachelor/basic_solutions.py:9: RuntimeWarning: divide by zero encountered in log\n",
      "  return (val * np.log(p_pred)).sum() + ((L - val) * np.log(1 - p_pred)).sum()\n",
      "/home/aapopovkin/venv/lib/python3.5/site-packages/scipy/stats/_stats_mstats_common.py:107: RuntimeWarning: invalid value encountered in double_scalars\n",
      "  slope = r_num / ssxm\n",
      "/home/aapopovkin/venv/lib/python3.5/site-packages/scipy/stats/_stats_mstats_common.py:119: RuntimeWarning: invalid value encountered in double_scalars\n",
      "  sterrest = np.sqrt((1 - r**2) * ssym / ssxm / df)\n",
      "/home/aapopovkin/venv/lib/python3.5/site-packages/ipykernel_launcher.py:13: RuntimeWarning: invalid value encountered in double_scalars\n",
      "  del sys.path[0]\n",
      "/home/aapopovkin/dip/bachelor/basic_solutions.py:9: RuntimeWarning: divide by zero encountered in log\n",
      "  return (val * np.log(p_pred)).sum() + ((L - val) * np.log(1 - p_pred)).sum()\n",
      "/home/aapopovkin/venv/lib/python3.5/site-packages/scipy/stats/_stats_mstats_common.py:107: RuntimeWarning: invalid value encountered in double_scalars\n",
      "  slope = r_num / ssxm\n",
      "/home/aapopovkin/venv/lib/python3.5/site-packages/scipy/stats/_stats_mstats_common.py:119: RuntimeWarning: invalid value encountered in double_scalars\n",
      "  sterrest = np.sqrt((1 - r**2) * ssym / ssxm / df)\n",
      "/home/aapopovkin/venv/lib/python3.5/site-packages/ipykernel_launcher.py:13: RuntimeWarning: invalid value encountered in double_scalars\n",
      "  del sys.path[0]\n",
      "/home/aapopovkin/dip/bachelor/basic_solutions.py:9: RuntimeWarning: divide by zero encountered in log\n",
      "  return (val * np.log(p_pred)).sum() + ((L - val) * np.log(1 - p_pred)).sum()\n",
      "/home/aapopovkin/dip/bachelor/basic_solutions.py:9: RuntimeWarning: invalid value encountered in multiply\n",
      "  return (val * np.log(p_pred)).sum() + ((L - val) * np.log(1 - p_pred)).sum()\n",
      "/home/aapopovkin/venv/lib/python3.5/site-packages/scipy/stats/_stats_mstats_common.py:107: RuntimeWarning: invalid value encountered in double_scalars\n",
      "  slope = r_num / ssxm\n",
      "/home/aapopovkin/venv/lib/python3.5/site-packages/scipy/stats/_stats_mstats_common.py:119: RuntimeWarning: invalid value encountered in double_scalars\n",
      "  sterrest = np.sqrt((1 - r**2) * ssym / ssxm / df)\n",
      "/home/aapopovkin/venv/lib/python3.5/site-packages/ipykernel_launcher.py:13: RuntimeWarning: invalid value encountered in double_scalars\n",
      "  del sys.path[0]\n"
     ]
    },
    {
     "name": "stderr",
     "output_type": "stream",
     "text": [
      "/home/aapopovkin/dip/bachelor/basic_solutions.py:9: RuntimeWarning: divide by zero encountered in log\n",
      "  return (val * np.log(p_pred)).sum() + ((L - val) * np.log(1 - p_pred)).sum()\n",
      "/home/aapopovkin/venv/lib/python3.5/site-packages/scipy/stats/_stats_mstats_common.py:107: RuntimeWarning: invalid value encountered in double_scalars\n",
      "  slope = r_num / ssxm\n",
      "/home/aapopovkin/venv/lib/python3.5/site-packages/scipy/stats/_stats_mstats_common.py:119: RuntimeWarning: invalid value encountered in double_scalars\n",
      "  sterrest = np.sqrt((1 - r**2) * ssym / ssxm / df)\n",
      "/home/aapopovkin/venv/lib/python3.5/site-packages/ipykernel_launcher.py:13: RuntimeWarning: invalid value encountered in double_scalars\n",
      "  del sys.path[0]\n",
      "/home/aapopovkin/venv/lib/python3.5/site-packages/numpy/lib/histograms.py:754: RuntimeWarning: invalid value encountered in greater_equal\n",
      "  keep = (tmp_a >= first_edge)\n",
      "/home/aapopovkin/venv/lib/python3.5/site-packages/numpy/lib/histograms.py:755: RuntimeWarning: invalid value encountered in less_equal\n",
      "  keep &= (tmp_a <= last_edge)\n"
     ]
    },
    {
     "data": {
      "image/png": "[encoded data removed]",
      "text/plain": [
       "<Figure size 432x288 with 1 Axes>"
      ]
     },
     "metadata": {
      "needs_background": "light"
     },
     "output_type": "display_data"
    },
    {
     "name": "stdout",
     "output_type": "stream",
     "text": [
      "(-0.079767172456796, 981)\n",
      "(-0.00121525722710788, 981)\n",
      "(-0.00279439458381583, 981)\n",
      "(0.002736666351717865, 981)\n",
      "(-0.0017990651792671038, 981)\n",
      "20\n"
     ]
    },
    {
     "name": "stderr",
     "output_type": "stream",
     "text": [
      "/home/aapopovkin/dip/bachelor/basic_solutions.py:9: RuntimeWarning: divide by zero encountered in log\n",
      "  return (val * np.log(p_pred)).sum() + ((L - val) * np.log(1 - p_pred)).sum()\n",
      "/home/aapopovkin/venv/lib/python3.5/site-packages/scipy/stats/_stats_mstats_common.py:107: RuntimeWarning: invalid value encountered in double_scalars\n",
      "  slope = r_num / ssxm\n",
      "/home/aapopovkin/venv/lib/python3.5/site-packages/scipy/stats/_stats_mstats_common.py:119: RuntimeWarning: invalid value encountered in double_scalars\n",
      "  sterrest = np.sqrt((1 - r**2) * ssym / ssxm / df)\n",
      "/home/aapopovkin/venv/lib/python3.5/site-packages/ipykernel_launcher.py:13: RuntimeWarning: invalid value encountered in double_scalars\n",
      "  del sys.path[0]\n",
      "/home/aapopovkin/venv/lib/python3.5/site-packages/scipy/optimize/optimize.py:1013: RuntimeWarning: divide by zero encountered in double_scalars\n",
      "  rhok = 1.0 / (numpy.dot(yk, sk))\n",
      "/home/aapopovkin/venv/lib/python3.5/site-packages/scipy/optimize/optimize.py:1013: RuntimeWarning: divide by zero encountered in double_scalars\n",
      "  rhok = 1.0 / (numpy.dot(yk, sk))\n",
      "/home/aapopovkin/venv/lib/python3.5/site-packages/ipykernel_launcher.py:3: RuntimeWarning: divide by zero encountered in double_scalars\n",
      "  This is separate from the ipykernel package so we can avoid doing imports until\n",
      "/home/aapopovkin/dip/bachelor/basic_solutions.py:6: RuntimeWarning: invalid value encountered in true_divide\n",
      "  return (train + alpha0 - 1) / (L + alpha0 + beta0 - 2)\n",
      "/home/aapopovkin/venv/lib/python3.5/site-packages/scipy/stats/_stats_mstats_common.py:107: RuntimeWarning: invalid value encountered in double_scalars\n",
      "  slope = r_num / ssxm\n",
      "/home/aapopovkin/venv/lib/python3.5/site-packages/scipy/stats/_stats_mstats_common.py:119: RuntimeWarning: divide by zero encountered in double_scalars\n",
      "  sterrest = np.sqrt((1 - r**2) * ssym / ssxm / df)\n",
      "/home/aapopovkin/venv/lib/python3.5/site-packages/scipy/stats/_stats_mstats_common.py:107: RuntimeWarning: invalid value encountered in double_scalars\n",
      "  slope = r_num / ssxm\n",
      "/home/aapopovkin/venv/lib/python3.5/site-packages/scipy/stats/_stats_mstats_common.py:119: RuntimeWarning: divide by zero encountered in double_scalars\n",
      "  sterrest = np.sqrt((1 - r**2) * ssym / ssxm / df)\n",
      "/home/aapopovkin/venv/lib/python3.5/site-packages/ipykernel_launcher.py:3: RuntimeWarning: divide by zero encountered in double_scalars\n",
      "  This is separate from the ipykernel package so we can avoid doing imports until\n",
      "/home/aapopovkin/dip/bachelor/basic_solutions.py:6: RuntimeWarning: invalid value encountered in true_divide\n",
      "  return (train + alpha0 - 1) / (L + alpha0 + beta0 - 2)\n",
      "/home/aapopovkin/dip/bachelor/basic_solutions.py:9: RuntimeWarning: divide by zero encountered in log\n",
      "  return (val * np.log(p_pred)).sum() + ((L - val) * np.log(1 - p_pred)).sum()\n",
      "/home/aapopovkin/venv/lib/python3.5/site-packages/scipy/stats/_stats_mstats_common.py:107: RuntimeWarning: invalid value encountered in double_scalars\n",
      "  slope = r_num / ssxm\n",
      "/home/aapopovkin/venv/lib/python3.5/site-packages/scipy/stats/_stats_mstats_common.py:119: RuntimeWarning: invalid value encountered in double_scalars\n",
      "  sterrest = np.sqrt((1 - r**2) * ssym / ssxm / df)\n",
      "/home/aapopovkin/venv/lib/python3.5/site-packages/ipykernel_launcher.py:13: RuntimeWarning: invalid value encountered in double_scalars\n",
      "  del sys.path[0]\n",
      "/home/aapopovkin/dip/bachelor/basic_solutions.py:9: RuntimeWarning: divide by zero encountered in log\n",
      "  return (val * np.log(p_pred)).sum() + ((L - val) * np.log(1 - p_pred)).sum()\n",
      "/home/aapopovkin/venv/lib/python3.5/site-packages/scipy/stats/_stats_mstats_common.py:107: RuntimeWarning: invalid value encountered in double_scalars\n",
      "  slope = r_num / ssxm\n",
      "/home/aapopovkin/venv/lib/python3.5/site-packages/scipy/stats/_stats_mstats_common.py:119: RuntimeWarning: invalid value encountered in double_scalars\n",
      "  sterrest = np.sqrt((1 - r**2) * ssym / ssxm / df)\n",
      "/home/aapopovkin/venv/lib/python3.5/site-packages/ipykernel_launcher.py:13: RuntimeWarning: invalid value encountered in double_scalars\n",
      "  del sys.path[0]\n",
      "/home/aapopovkin/dip/bachelor/basic_solutions.py:9: RuntimeWarning: divide by zero encountered in log\n",
      "  return (val * np.log(p_pred)).sum() + ((L - val) * np.log(1 - p_pred)).sum()\n",
      "/home/aapopovkin/dip/bachelor/basic_solutions.py:9: RuntimeWarning: invalid value encountered in multiply\n",
      "  return (val * np.log(p_pred)).sum() + ((L - val) * np.log(1 - p_pred)).sum()\n",
      "/home/aapopovkin/venv/lib/python3.5/site-packages/scipy/stats/_stats_mstats_common.py:107: RuntimeWarning: invalid value encountered in double_scalars\n",
      "  slope = r_num / ssxm\n",
      "/home/aapopovkin/venv/lib/python3.5/site-packages/scipy/stats/_stats_mstats_common.py:119: RuntimeWarning: invalid value encountered in double_scalars\n",
      "  sterrest = np.sqrt((1 - r**2) * ssym / ssxm / df)\n",
      "/home/aapopovkin/venv/lib/python3.5/site-packages/ipykernel_launcher.py:13: RuntimeWarning: invalid value encountered in double_scalars\n",
      "  del sys.path[0]\n",
      "/home/aapopovkin/venv/lib/python3.5/site-packages/ipykernel_launcher.py:3: RuntimeWarning: divide by zero encountered in double_scalars\n",
      "  This is separate from the ipykernel package so we can avoid doing imports until\n",
      "/home/aapopovkin/dip/bachelor/basic_solutions.py:6: RuntimeWarning: invalid value encountered in true_divide\n",
      "  return (train + alpha0 - 1) / (L + alpha0 + beta0 - 2)\n",
      "/home/aapopovkin/venv/lib/python3.5/site-packages/numpy/lib/histograms.py:754: RuntimeWarning: invalid value encountered in greater_equal\n",
      "  keep = (tmp_a >= first_edge)\n",
      "/home/aapopovkin/venv/lib/python3.5/site-packages/numpy/lib/histograms.py:755: RuntimeWarning: invalid value encountered in less_equal\n",
      "  keep &= (tmp_a <= last_edge)\n"
     ]
    },
    {
     "data": {
      "image/png": "[encoded data removed]",
      "text/plain": [
       "<Figure size 432x288 with 1 Axes>"
      ]
     },
     "metadata": {
      "needs_background": "light"
     },
     "output_type": "display_data"
    },
    {
     "name": "stdout",
     "output_type": "stream",
     "text": [
      "(-0.026371866216203823, 991)\n",
      "(0.004766146323020353, 991)\n",
      "(0.0030370548155002363, 991)\n",
      "(0.006050145691021331, 991)\n",
      "(0.004085337523526584, 991)\n",
      "30\n"
     ]
    },
    {
     "name": "stderr",
     "output_type": "stream",
     "text": [
      "/home/aapopovkin/dip/bachelor/basic_solutions.py:9: RuntimeWarning: divide by zero encountered in log\n",
      "  return (val * np.log(p_pred)).sum() + ((L - val) * np.log(1 - p_pred)).sum()\n",
      "/home/aapopovkin/venv/lib/python3.5/site-packages/scipy/stats/_stats_mstats_common.py:107: RuntimeWarning: invalid value encountered in double_scalars\n",
      "  slope = r_num / ssxm\n",
      "/home/aapopovkin/venv/lib/python3.5/site-packages/scipy/stats/_stats_mstats_common.py:119: RuntimeWarning: invalid value encountered in double_scalars\n",
      "  sterrest = np.sqrt((1 - r**2) * ssym / ssxm / df)\n",
      "/home/aapopovkin/venv/lib/python3.5/site-packages/ipykernel_launcher.py:13: RuntimeWarning: invalid value encountered in double_scalars\n",
      "  del sys.path[0]\n",
      "/home/aapopovkin/venv/lib/python3.5/site-packages/scipy/stats/_stats_mstats_common.py:107: RuntimeWarning: invalid value encountered in double_scalars\n",
      "  slope = r_num / ssxm\n",
      "/home/aapopovkin/venv/lib/python3.5/site-packages/scipy/stats/_stats_mstats_common.py:119: RuntimeWarning: divide by zero encountered in double_scalars\n",
      "  sterrest = np.sqrt((1 - r**2) * ssym / ssxm / df)\n",
      "/home/aapopovkin/venv/lib/python3.5/site-packages/ipykernel_launcher.py:3: RuntimeWarning: divide by zero encountered in double_scalars\n",
      "  This is separate from the ipykernel package so we can avoid doing imports until\n",
      "/home/aapopovkin/dip/bachelor/basic_solutions.py:6: RuntimeWarning: invalid value encountered in true_divide\n",
      "  return (train + alpha0 - 1) / (L + alpha0 + beta0 - 2)\n",
      "/home/aapopovkin/dip/bachelor/basic_solutions.py:9: RuntimeWarning: divide by zero encountered in log\n",
      "  return (val * np.log(p_pred)).sum() + ((L - val) * np.log(1 - p_pred)).sum()\n",
      "/home/aapopovkin/venv/lib/python3.5/site-packages/scipy/stats/_stats_mstats_common.py:107: RuntimeWarning: invalid value encountered in double_scalars\n",
      "  slope = r_num / ssxm\n",
      "/home/aapopovkin/venv/lib/python3.5/site-packages/scipy/stats/_stats_mstats_common.py:119: RuntimeWarning: invalid value encountered in double_scalars\n",
      "  sterrest = np.sqrt((1 - r**2) * ssym / ssxm / df)\n",
      "/home/aapopovkin/venv/lib/python3.5/site-packages/ipykernel_launcher.py:13: RuntimeWarning: invalid value encountered in double_scalars\n",
      "  del sys.path[0]\n",
      "/home/aapopovkin/venv/lib/python3.5/site-packages/ipykernel_launcher.py:3: RuntimeWarning: divide by zero encountered in double_scalars\n",
      "  This is separate from the ipykernel package so we can avoid doing imports until\n",
      "/home/aapopovkin/dip/bachelor/basic_solutions.py:6: RuntimeWarning: invalid value encountered in true_divide\n",
      "  return (train + alpha0 - 1) / (L + alpha0 + beta0 - 2)\n",
      "/home/aapopovkin/dip/bachelor/basic_solutions.py:9: RuntimeWarning: divide by zero encountered in log\n",
      "  return (val * np.log(p_pred)).sum() + ((L - val) * np.log(1 - p_pred)).sum()\n",
      "/home/aapopovkin/dip/bachelor/basic_solutions.py:9: RuntimeWarning: invalid value encountered in multiply\n",
      "  return (val * np.log(p_pred)).sum() + ((L - val) * np.log(1 - p_pred)).sum()\n",
      "/home/aapopovkin/venv/lib/python3.5/site-packages/scipy/stats/_stats_mstats_common.py:107: RuntimeWarning: invalid value encountered in double_scalars\n",
      "  slope = r_num / ssxm\n",
      "/home/aapopovkin/venv/lib/python3.5/site-packages/scipy/stats/_stats_mstats_common.py:119: RuntimeWarning: invalid value encountered in double_scalars\n",
      "  sterrest = np.sqrt((1 - r**2) * ssym / ssxm / df)\n",
      "/home/aapopovkin/venv/lib/python3.5/site-packages/ipykernel_launcher.py:13: RuntimeWarning: invalid value encountered in double_scalars\n",
      "  del sys.path[0]\n",
      "/home/aapopovkin/venv/lib/python3.5/site-packages/numpy/lib/histograms.py:754: RuntimeWarning: invalid value encountered in greater_equal\n",
      "  keep = (tmp_a >= first_edge)\n",
      "/home/aapopovkin/venv/lib/python3.5/site-packages/numpy/lib/histograms.py:755: RuntimeWarning: invalid value encountered in less_equal\n",
      "  keep &= (tmp_a <= last_edge)\n"
     ]
    },
    {
     "data": {
      "image/png": "[encoded data removed]",
      "text/plain": [
       "<Figure size 432x288 with 1 Axes>"
      ]
     },
     "metadata": {
      "needs_background": "light"
     },
     "output_type": "display_data"
    },
    {
     "name": "stdout",
     "output_type": "stream",
     "text": [
      "(-0.009902108475365944, 994)\n",
      "(0.006613122565713246, 994)\n",
      "(0.005058458130917101, 994)\n",
      "(0.0076851248122072535, 994)\n",
      "(0.00652648144504112, 994)\n",
      "50\n"
     ]
    },
    {
     "name": "stderr",
     "output_type": "stream",
     "text": [
      "/home/aapopovkin/venv/lib/python3.5/site-packages/scipy/optimize/optimize.py:1013: RuntimeWarning: divide by zero encountered in double_scalars\n",
      "  rhok = 1.0 / (numpy.dot(yk, sk))\n",
      "/home/aapopovkin/venv/lib/python3.5/site-packages/scipy/optimize/optimize.py:1013: RuntimeWarning: divide by zero encountered in double_scalars\n",
      "  rhok = 1.0 / (numpy.dot(yk, sk))\n",
      "/home/aapopovkin/venv/lib/python3.5/site-packages/ipykernel_launcher.py:3: RuntimeWarning: divide by zero encountered in double_scalars\n",
      "  This is separate from the ipykernel package so we can avoid doing imports until\n",
      "/home/aapopovkin/dip/bachelor/basic_solutions.py:6: RuntimeWarning: invalid value encountered in true_divide\n",
      "  return (train + alpha0 - 1) / (L + alpha0 + beta0 - 2)\n",
      "/home/aapopovkin/dip/bachelor/basic_solutions.py:9: RuntimeWarning: divide by zero encountered in log\n",
      "  return (val * np.log(p_pred)).sum() + ((L - val) * np.log(1 - p_pred)).sum()\n",
      "/home/aapopovkin/dip/bachelor/basic_solutions.py:9: RuntimeWarning: invalid value encountered in multiply\n",
      "  return (val * np.log(p_pred)).sum() + ((L - val) * np.log(1 - p_pred)).sum()\n",
      "/home/aapopovkin/venv/lib/python3.5/site-packages/scipy/stats/_stats_mstats_common.py:107: RuntimeWarning: invalid value encountered in double_scalars\n",
      "  slope = r_num / ssxm\n",
      "/home/aapopovkin/venv/lib/python3.5/site-packages/scipy/stats/_stats_mstats_common.py:119: RuntimeWarning: invalid value encountered in double_scalars\n",
      "  sterrest = np.sqrt((1 - r**2) * ssym / ssxm / df)\n",
      "/home/aapopovkin/venv/lib/python3.5/site-packages/ipykernel_launcher.py:13: RuntimeWarning: invalid value encountered in double_scalars\n",
      "  del sys.path[0]\n",
      "/home/aapopovkin/venv/lib/python3.5/site-packages/numpy/lib/histograms.py:754: RuntimeWarning: invalid value encountered in greater_equal\n",
      "  keep = (tmp_a >= first_edge)\n",
      "/home/aapopovkin/venv/lib/python3.5/site-packages/numpy/lib/histograms.py:755: RuntimeWarning: invalid value encountered in less_equal\n",
      "  keep &= (tmp_a <= last_edge)\n"
     ]
    },
    {
     "data": {
      "image/png": "[encoded data removed]",
      "text/plain": [
       "<Figure size 432x288 with 1 Axes>"
      ]
     },
     "metadata": {
      "needs_background": "light"
     },
     "output_type": "display_data"
    },
    {
     "name": "stdout",
     "output_type": "stream",
     "text": [
      "(0.00154154186593994, 998)\n",
      "(0.007896222786746523, 998)\n",
      "(0.006763524513521789, 998)\n",
      "(0.009334388361811361, 998)\n",
      "(0.009033468618220995, 998)\n",
      "70\n"
     ]
    },
    {
     "name": "stderr",
     "output_type": "stream",
     "text": [
      "/home/aapopovkin/venv/lib/python3.5/site-packages/scipy/optimize/optimize.py:1013: RuntimeWarning: divide by zero encountered in double_scalars\n",
      "  rhok = 1.0 / (numpy.dot(yk, sk))\n",
      "/home/aapopovkin/venv/lib/python3.5/site-packages/scipy/optimize/optimize.py:1013: RuntimeWarning: divide by zero encountered in double_scalars\n",
      "  rhok = 1.0 / (numpy.dot(yk, sk))\n",
      "/home/aapopovkin/venv/lib/python3.5/site-packages/scipy/stats/_stats_mstats_common.py:107: RuntimeWarning: invalid value encountered in double_scalars\n",
      "  slope = r_num / ssxm\n",
      "/home/aapopovkin/venv/lib/python3.5/site-packages/scipy/stats/_stats_mstats_common.py:119: RuntimeWarning: divide by zero encountered in double_scalars\n",
      "  sterrest = np.sqrt((1 - r**2) * ssym / ssxm / df)\n",
      "/home/aapopovkin/dip/bachelor/basic_solutions.py:9: RuntimeWarning: divide by zero encountered in log\n",
      "  return (val * np.log(p_pred)).sum() + ((L - val) * np.log(1 - p_pred)).sum()\n",
      "/home/aapopovkin/dip/bachelor/basic_solutions.py:9: RuntimeWarning: invalid value encountered in multiply\n",
      "  return (val * np.log(p_pred)).sum() + ((L - val) * np.log(1 - p_pred)).sum()\n",
      "/home/aapopovkin/venv/lib/python3.5/site-packages/scipy/stats/_stats_mstats_common.py:107: RuntimeWarning: invalid value encountered in double_scalars\n",
      "  slope = r_num / ssxm\n",
      "/home/aapopovkin/venv/lib/python3.5/site-packages/scipy/stats/_stats_mstats_common.py:119: RuntimeWarning: invalid value encountered in double_scalars\n",
      "  sterrest = np.sqrt((1 - r**2) * ssym / ssxm / df)\n",
      "/home/aapopovkin/venv/lib/python3.5/site-packages/ipykernel_launcher.py:13: RuntimeWarning: invalid value encountered in double_scalars\n",
      "  del sys.path[0]\n",
      "/home/aapopovkin/venv/lib/python3.5/site-packages/scipy/optimize/optimize.py:1013: RuntimeWarning: divide by zero encountered in double_scalars\n",
      "  rhok = 1.0 / (numpy.dot(yk, sk))\n",
      "/home/aapopovkin/venv/lib/python3.5/site-packages/scipy/optimize/optimize.py:1013: RuntimeWarning: divide by zero encountered in double_scalars\n",
      "  rhok = 1.0 / (numpy.dot(yk, sk))\n",
      "/home/aapopovkin/venv/lib/python3.5/site-packages/numpy/lib/histograms.py:754: RuntimeWarning: invalid value encountered in greater_equal\n",
      "  keep = (tmp_a >= first_edge)\n",
      "/home/aapopovkin/venv/lib/python3.5/site-packages/numpy/lib/histograms.py:755: RuntimeWarning: invalid value encountered in less_equal\n",
      "  keep &= (tmp_a <= last_edge)\n"
     ]
    },
    {
     "data": {
      "image/png": "[encoded data removed]",
      "text/plain": [
       "<Figure size 432x288 with 1 Axes>"
      ]
     },
     "metadata": {
      "needs_background": "light"
     },
     "output_type": "display_data"
    },
    {
     "name": "stdout",
     "output_type": "stream",
     "text": [
      "(0.005941532216656673, 998)\n",
      "(0.009028362363172927, 998)\n",
      "(0.008110635908062826, 998)\n",
      "(0.0103270032343024, 998)\n",
      "(0.010183973358827682, 998)\n",
      "100\n"
     ]
    },
    {
     "name": "stderr",
     "output_type": "stream",
     "text": [
      "/home/aapopovkin/venv/lib/python3.5/site-packages/scipy/optimize/optimize.py:1013: RuntimeWarning: divide by zero encountered in double_scalars\n",
      "  rhok = 1.0 / (numpy.dot(yk, sk))\n",
      "/home/aapopovkin/venv/lib/python3.5/site-packages/scipy/optimize/optimize.py:1013: RuntimeWarning: divide by zero encountered in double_scalars\n",
      "  rhok = 1.0 / (numpy.dot(yk, sk))\n",
      "/home/aapopovkin/venv/lib/python3.5/site-packages/ipykernel_launcher.py:3: RuntimeWarning: divide by zero encountered in double_scalars\n",
      "  This is separate from the ipykernel package so we can avoid doing imports until\n",
      "/home/aapopovkin/dip/bachelor/basic_solutions.py:6: RuntimeWarning: invalid value encountered in true_divide\n",
      "  return (train + alpha0 - 1) / (L + alpha0 + beta0 - 2)\n",
      "/home/aapopovkin/venv/lib/python3.5/site-packages/scipy/optimize/optimize.py:1013: RuntimeWarning: divide by zero encountered in double_scalars\n",
      "  rhok = 1.0 / (numpy.dot(yk, sk))\n",
      "/home/aapopovkin/venv/lib/python3.5/site-packages/scipy/optimize/optimize.py:1013: RuntimeWarning: divide by zero encountered in double_scalars\n",
      "  rhok = 1.0 / (numpy.dot(yk, sk))\n",
      "/home/aapopovkin/dip/bachelor/basic_solutions.py:9: RuntimeWarning: divide by zero encountered in log\n",
      "  return (val * np.log(p_pred)).sum() + ((L - val) * np.log(1 - p_pred)).sum()\n",
      "/home/aapopovkin/dip/bachelor/basic_solutions.py:9: RuntimeWarning: invalid value encountered in multiply\n",
      "  return (val * np.log(p_pred)).sum() + ((L - val) * np.log(1 - p_pred)).sum()\n",
      "/home/aapopovkin/venv/lib/python3.5/site-packages/scipy/stats/_stats_mstats_common.py:107: RuntimeWarning: invalid value encountered in double_scalars\n",
      "  slope = r_num / ssxm\n",
      "/home/aapopovkin/venv/lib/python3.5/site-packages/scipy/stats/_stats_mstats_common.py:119: RuntimeWarning: invalid value encountered in double_scalars\n",
      "  sterrest = np.sqrt((1 - r**2) * ssym / ssxm / df)\n",
      "/home/aapopovkin/venv/lib/python3.5/site-packages/ipykernel_launcher.py:13: RuntimeWarning: invalid value encountered in double_scalars\n",
      "  del sys.path[0]\n",
      "/home/aapopovkin/venv/lib/python3.5/site-packages/numpy/lib/histograms.py:754: RuntimeWarning: invalid value encountered in greater_equal\n",
      "  keep = (tmp_a >= first_edge)\n",
      "/home/aapopovkin/venv/lib/python3.5/site-packages/numpy/lib/histograms.py:755: RuntimeWarning: invalid value encountered in less_equal\n",
      "  keep &= (tmp_a <= last_edge)\n"
     ]
    },
    {
     "data": {
      "image/png": "[encoded data removed]",
      "text/plain": [
       "<Figure size 432x288 with 1 Axes>"
      ]
     },
     "metadata": {
      "needs_background": "light"
     },
     "output_type": "display_data"
    },
    {
     "name": "stdout",
     "output_type": "stream",
     "text": [
      "(0.008753492967146895, 998)\n",
      "(0.010260208425350087, 998)\n",
      "(0.009494124156292588, 998)\n",
      "(0.01105912566864227, 998)\n",
      "(0.011017228052428506, 998)\n",
      "150\n"
     ]
    },
    {
     "name": "stderr",
     "output_type": "stream",
     "text": [
      "/home/aapopovkin/venv/lib/python3.5/site-packages/ipykernel_launcher.py:3: RuntimeWarning: divide by zero encountered in double_scalars\n",
      "  This is separate from the ipykernel package so we can avoid doing imports until\n",
      "/home/aapopovkin/dip/bachelor/basic_solutions.py:6: RuntimeWarning: invalid value encountered in true_divide\n",
      "  return (train + alpha0 - 1) / (L + alpha0 + beta0 - 2)\n",
      "/home/aapopovkin/dip/bachelor/basic_solutions.py:9: RuntimeWarning: divide by zero encountered in log\n",
      "  return (val * np.log(p_pred)).sum() + ((L - val) * np.log(1 - p_pred)).sum()\n",
      "/home/aapopovkin/dip/bachelor/basic_solutions.py:9: RuntimeWarning: invalid value encountered in multiply\n",
      "  return (val * np.log(p_pred)).sum() + ((L - val) * np.log(1 - p_pred)).sum()\n",
      "/home/aapopovkin/venv/lib/python3.5/site-packages/scipy/stats/_stats_mstats_common.py:107: RuntimeWarning: invalid value encountered in double_scalars\n",
      "  slope = r_num / ssxm\n",
      "/home/aapopovkin/venv/lib/python3.5/site-packages/scipy/stats/_stats_mstats_common.py:119: RuntimeWarning: invalid value encountered in double_scalars\n",
      "  sterrest = np.sqrt((1 - r**2) * ssym / ssxm / df)\n",
      "/home/aapopovkin/venv/lib/python3.5/site-packages/ipykernel_launcher.py:13: RuntimeWarning: invalid value encountered in double_scalars\n",
      "  del sys.path[0]\n",
      "/home/aapopovkin/venv/lib/python3.5/site-packages/numpy/lib/histograms.py:754: RuntimeWarning: invalid value encountered in greater_equal\n",
      "  keep = (tmp_a >= first_edge)\n",
      "/home/aapopovkin/venv/lib/python3.5/site-packages/numpy/lib/histograms.py:755: RuntimeWarning: invalid value encountered in less_equal\n",
      "  keep &= (tmp_a <= last_edge)\n"
     ]
    },
    {
     "data": {
      "image/png": "[encoded data removed]",
      "text/plain": [
       "<Figure size 432x288 with 1 Axes>"
      ]
     },
     "metadata": {
      "needs_background": "light"
     },
     "output_type": "display_data"
    },
    {
     "name": "stdout",
     "output_type": "stream",
     "text": [
      "(0.01066155459328144, 998)\n",
      "(0.011390701974639983, 998)\n",
      "(0.010772840721949896, 998)\n",
      "(0.01172436299852723, 998)\n",
      "(0.011830204231739649, 998)\n",
      "200\n"
     ]
    },
    {
     "name": "stderr",
     "output_type": "stream",
     "text": [
      "/home/aapopovkin/venv/lib/python3.5/site-packages/scipy/optimize/optimize.py:1013: RuntimeWarning: divide by zero encountered in double_scalars\n",
      "  rhok = 1.0 / (numpy.dot(yk, sk))\n",
      "/home/aapopovkin/venv/lib/python3.5/site-packages/scipy/optimize/optimize.py:1013: RuntimeWarning: divide by zero encountered in double_scalars\n",
      "  rhok = 1.0 / (numpy.dot(yk, sk))\n",
      "/home/aapopovkin/venv/lib/python3.5/site-packages/scipy/optimize/optimize.py:1013: RuntimeWarning: divide by zero encountered in double_scalars\n",
      "  rhok = 1.0 / (numpy.dot(yk, sk))\n",
      "/home/aapopovkin/venv/lib/python3.5/site-packages/scipy/optimize/optimize.py:1013: RuntimeWarning: divide by zero encountered in double_scalars\n",
      "  rhok = 1.0 / (numpy.dot(yk, sk))\n",
      "/home/aapopovkin/dip/bachelor/basic_solutions.py:9: RuntimeWarning: divide by zero encountered in log\n",
      "  return (val * np.log(p_pred)).sum() + ((L - val) * np.log(1 - p_pred)).sum()\n",
      "/home/aapopovkin/dip/bachelor/basic_solutions.py:9: RuntimeWarning: invalid value encountered in multiply\n",
      "  return (val * np.log(p_pred)).sum() + ((L - val) * np.log(1 - p_pred)).sum()\n",
      "/home/aapopovkin/venv/lib/python3.5/site-packages/scipy/stats/_stats_mstats_common.py:107: RuntimeWarning: invalid value encountered in double_scalars\n",
      "  slope = r_num / ssxm\n",
      "/home/aapopovkin/venv/lib/python3.5/site-packages/scipy/stats/_stats_mstats_common.py:119: RuntimeWarning: invalid value encountered in double_scalars\n",
      "  sterrest = np.sqrt((1 - r**2) * ssym / ssxm / df)\n",
      "/home/aapopovkin/venv/lib/python3.5/site-packages/ipykernel_launcher.py:13: RuntimeWarning: invalid value encountered in double_scalars\n",
      "  del sys.path[0]\n",
      "/home/aapopovkin/venv/lib/python3.5/site-packages/numpy/lib/histograms.py:754: RuntimeWarning: invalid value encountered in greater_equal\n",
      "  keep = (tmp_a >= first_edge)\n",
      "/home/aapopovkin/venv/lib/python3.5/site-packages/numpy/lib/histograms.py:755: RuntimeWarning: invalid value encountered in less_equal\n",
      "  keep &= (tmp_a <= last_edge)\n"
     ]
    },
    {
     "data": {
      "image/png": "[encoded data removed]",
      "text/plain": [
       "<Figure size 432x288 with 1 Axes>"
      ]
     },
     "metadata": {
      "needs_background": "light"
     },
     "output_type": "display_data"
    },
    {
     "name": "stdout",
     "output_type": "stream",
     "text": [
      "(0.011502297838903027, 999)\n",
      "(0.011824447706015028, 999)\n",
      "(0.011340224469894335, 999)\n",
      "(0.012057706257688938, 999)\n",
      "(0.012209955622840163, 999)\n",
      "300\n"
     ]
    },
    {
     "name": "stderr",
     "output_type": "stream",
     "text": [
      "/home/aapopovkin/venv/lib/python3.5/site-packages/scipy/optimize/optimize.py:1013: RuntimeWarning: divide by zero encountered in double_scalars\n",
      "  rhok = 1.0 / (numpy.dot(yk, sk))\n",
      "/home/aapopovkin/venv/lib/python3.5/site-packages/scipy/optimize/optimize.py:1013: RuntimeWarning: divide by zero encountered in double_scalars\n",
      "  rhok = 1.0 / (numpy.dot(yk, sk))\n",
      "/home/aapopovkin/venv/lib/python3.5/site-packages/scipy/stats/_stats_mstats_common.py:107: RuntimeWarning: invalid value encountered in double_scalars\n",
      "  slope = r_num / ssxm\n",
      "/home/aapopovkin/venv/lib/python3.5/site-packages/scipy/stats/_stats_mstats_common.py:119: RuntimeWarning: divide by zero encountered in double_scalars\n",
      "  sterrest = np.sqrt((1 - r**2) * ssym / ssxm / df)\n",
      "/home/aapopovkin/venv/lib/python3.5/site-packages/numpy/lib/histograms.py:754: RuntimeWarning: invalid value encountered in greater_equal\n",
      "  keep = (tmp_a >= first_edge)\n",
      "/home/aapopovkin/venv/lib/python3.5/site-packages/numpy/lib/histograms.py:755: RuntimeWarning: invalid value encountered in less_equal\n",
      "  keep &= (tmp_a <= last_edge)\n"
     ]
    },
    {
     "data": {
      "image/png": "[encoded data removed]",
      "text/plain": [
       "<Figure size 432x288 with 1 Axes>"
      ]
     },
     "metadata": {
      "needs_background": "light"
     },
     "output_type": "display_data"
    },
    {
     "name": "stdout",
     "output_type": "stream",
     "text": [
      "(0.012297939308330497, 999)\n",
      "(0.012457335768344168, 999)\n",
      "(0.01207320245469442, 999)\n",
      "(0.012491737841711198, 999)\n",
      "(0.012635317232552661, 999)\n",
      "500\n"
     ]
    },
    {
     "name": "stderr",
     "output_type": "stream",
     "text": [
      "/home/aapopovkin/venv/lib/python3.5/site-packages/scipy/optimize/optimize.py:1013: RuntimeWarning: divide by zero encountered in double_scalars\n",
      "  rhok = 1.0 / (numpy.dot(yk, sk))\n",
      "/home/aapopovkin/venv/lib/python3.5/site-packages/scipy/optimize/optimize.py:1013: RuntimeWarning: divide by zero encountered in double_scalars\n",
      "  rhok = 1.0 / (numpy.dot(yk, sk))\n",
      "/home/aapopovkin/venv/lib/python3.5/site-packages/ipykernel_launcher.py:3: RuntimeWarning: divide by zero encountered in double_scalars\n",
      "  This is separate from the ipykernel package so we can avoid doing imports until\n",
      "/home/aapopovkin/dip/bachelor/basic_solutions.py:6: RuntimeWarning: invalid value encountered in true_divide\n",
      "  return (train + alpha0 - 1) / (L + alpha0 + beta0 - 2)\n",
      "/home/aapopovkin/venv/lib/python3.5/site-packages/numpy/lib/histograms.py:754: RuntimeWarning: invalid value encountered in greater_equal\n",
      "  keep = (tmp_a >= first_edge)\n",
      "/home/aapopovkin/venv/lib/python3.5/site-packages/numpy/lib/histograms.py:755: RuntimeWarning: invalid value encountered in less_equal\n",
      "  keep &= (tmp_a <= last_edge)\n"
     ]
    },
    {
     "data": {
      "image/png": "[encoded data removed]",
      "text/plain": [
       "<Figure size 432x288 with 1 Axes>"
      ]
     },
     "metadata": {
      "needs_background": "light"
     },
     "output_type": "display_data"
    },
    {
     "name": "stdout",
     "output_type": "stream",
     "text": [
      "(0.012860802202906578, 999)\n",
      "(0.012909074269761798, 999)\n",
      "(0.012672100900649122, 999)\n",
      "(0.012850810782066405, 999)\n",
      "(0.012984010895983394, 999)\n",
      "1000\n"
     ]
    },
    {
     "name": "stderr",
     "output_type": "stream",
     "text": [
      "/home/aapopovkin/venv/lib/python3.5/site-packages/scipy/optimize/optimize.py:1013: RuntimeWarning: divide by zero encountered in double_scalars\n",
      "  rhok = 1.0 / (numpy.dot(yk, sk))\n",
      "/home/aapopovkin/venv/lib/python3.5/site-packages/scipy/optimize/optimize.py:1013: RuntimeWarning: divide by zero encountered in double_scalars\n",
      "  rhok = 1.0 / (numpy.dot(yk, sk))\n",
      "/home/aapopovkin/dip/bachelor/basic_solutions.py:9: RuntimeWarning: divide by zero encountered in log\n",
      "  return (val * np.log(p_pred)).sum() + ((L - val) * np.log(1 - p_pred)).sum()\n",
      "/home/aapopovkin/dip/bachelor/basic_solutions.py:9: RuntimeWarning: invalid value encountered in multiply\n",
      "  return (val * np.log(p_pred)).sum() + ((L - val) * np.log(1 - p_pred)).sum()\n",
      "/home/aapopovkin/venv/lib/python3.5/site-packages/scipy/stats/_stats_mstats_common.py:107: RuntimeWarning: invalid value encountered in double_scalars\n",
      "  slope = r_num / ssxm\n",
      "/home/aapopovkin/venv/lib/python3.5/site-packages/scipy/stats/_stats_mstats_common.py:119: RuntimeWarning: invalid value encountered in double_scalars\n",
      "  sterrest = np.sqrt((1 - r**2) * ssym / ssxm / df)\n",
      "/home/aapopovkin/venv/lib/python3.5/site-packages/ipykernel_launcher.py:13: RuntimeWarning: invalid value encountered in double_scalars\n",
      "  del sys.path[0]\n",
      "/home/aapopovkin/venv/lib/python3.5/site-packages/numpy/lib/histograms.py:754: RuntimeWarning: invalid value encountered in greater_equal\n",
      "  keep = (tmp_a >= first_edge)\n",
      "/home/aapopovkin/venv/lib/python3.5/site-packages/numpy/lib/histograms.py:755: RuntimeWarning: invalid value encountered in less_equal\n",
      "  keep &= (tmp_a <= last_edge)\n"
     ]
    },
    {
     "data": {
      "image/png": "[encoded data removed]",
      "text/plain": [
       "<Figure size 432x288 with 1 Axes>"
      ]
     },
     "metadata": {
      "needs_background": "light"
     },
     "output_type": "display_data"
    },
    {
     "name": "stdout",
     "output_type": "stream",
     "text": [
      "(0.013219719789490072, 999)\n",
      "(0.013233286105760775, 999)\n",
      "(0.013099569985027398, 999)\n",
      "(0.01317874145934623, 999)\n",
      "(0.01325050015059707, 999)\n",
      "1500\n"
     ]
    },
    {
     "name": "stderr",
     "output_type": "stream",
     "text": [
      "/home/aapopovkin/venv/lib/python3.5/site-packages/ipykernel_launcher.py:3: RuntimeWarning: divide by zero encountered in double_scalars\n",
      "  This is separate from the ipykernel package so we can avoid doing imports until\n",
      "/home/aapopovkin/dip/bachelor/basic_solutions.py:6: RuntimeWarning: invalid value encountered in true_divide\n",
      "  return (train + alpha0 - 1) / (L + alpha0 + beta0 - 2)\n",
      "/home/aapopovkin/venv/lib/python3.5/site-packages/numpy/lib/histograms.py:754: RuntimeWarning: invalid value encountered in greater_equal\n",
      "  keep = (tmp_a >= first_edge)\n",
      "/home/aapopovkin/venv/lib/python3.5/site-packages/numpy/lib/histograms.py:755: RuntimeWarning: invalid value encountered in less_equal\n",
      "  keep &= (tmp_a <= last_edge)\n"
     ]
    },
    {
     "data": {
      "image/png": "[encoded data removed]",
      "text/plain": [
       "<Figure size 432x288 with 1 Axes>"
      ]
     },
     "metadata": {
      "needs_background": "light"
     },
     "output_type": "display_data"
    },
    {
     "name": "stdout",
     "output_type": "stream",
     "text": [
      "(0.01332861128981367, 999)\n",
      "(0.01333393259202242, 999)\n",
      "(0.013236826215022103, 999)\n",
      "(0.013290022588326915, 999)\n",
      "(0.01333861514440353, 999)\n",
      "2000\n"
     ]
    },
    {
     "name": "stderr",
     "output_type": "stream",
     "text": [
      "/home/aapopovkin/venv/lib/python3.5/site-packages/ipykernel_launcher.py:3: RuntimeWarning: divide by zero encountered in double_scalars\n",
      "  This is separate from the ipykernel package so we can avoid doing imports until\n",
      "/home/aapopovkin/dip/bachelor/basic_solutions.py:6: RuntimeWarning: invalid value encountered in true_divide\n",
      "  return (train + alpha0 - 1) / (L + alpha0 + beta0 - 2)\n",
      "/home/aapopovkin/venv/lib/python3.5/site-packages/numpy/lib/histograms.py:754: RuntimeWarning: invalid value encountered in greater_equal\n",
      "  keep = (tmp_a >= first_edge)\n",
      "/home/aapopovkin/venv/lib/python3.5/site-packages/numpy/lib/histograms.py:755: RuntimeWarning: invalid value encountered in less_equal\n",
      "  keep &= (tmp_a <= last_edge)\n"
     ]
    },
    {
     "data": {
      "image/png": "[encoded data removed]",
      "text/plain": [
       "<Figure size 432x288 with 1 Axes>"
      ]
     },
     "metadata": {
      "needs_background": "light"
     },
     "output_type": "display_data"
    },
    {
     "name": "stdout",
     "output_type": "stream",
     "text": [
      "(0.01338052902286831, 999)\n",
      "(0.01338335620257947, 999)\n",
      "(0.01331110266399262, 999)\n",
      "(0.013349257138109954, 999)\n",
      "(0.013385306773872169, 999)\n"
     ]
    }
   ],
   "source": [
    "for L in [10, 20, 30, 50, 70, 100, 150, 200, 300, 500, 1000, 1500, 2000]:\n",
    "    print (L)\n",
    "    ans = evaluate_compare([\n",
    "            stupid_solution,\n",
    "            max_loglike_solution,\n",
    "            max_loglike_solution2,\n",
    "            calibration_curve_solution,\n",
    "            pceudo_cc_solution,\n",
    "        ], DataSet(1000, 100, L), True, [\n",
    "            'stup', 'll', 'll2', 'cc', 'wcc'\n",
    "        ])\n",
    "    for i in ans:\n",
    "        print (i)"
   ]
  },
  {
   "cell_type": "code",
   "execution_count": 50,
   "metadata": {
    "scrolled": false
   },
   "outputs": [
    {
     "name": "stderr",
     "output_type": "stream",
     "text": [
      "/home/aapopovkin/venv/lib/python3.5/site-packages/ipykernel_launcher.py:3: RuntimeWarning: divide by zero encountered in double_scalars\n",
      "  This is separate from the ipykernel package so we can avoid doing imports until\n",
      "/home/aapopovkin/dip/bachelor/basic_solutions.py:6: RuntimeWarning: invalid value encountered in true_divide\n",
      "  return (train + alpha0 - 1) / (L + alpha0 + beta0 - 2)\n"
     ]
    },
    {
     "name": "stdout",
     "output_type": "stream",
     "text": [
      "0.031018558135350382\n",
      "-0.026968268731682482\n",
      "0.004050289403667896\n",
      "100\n"
     ]
    },
    {
     "name": "stderr",
     "output_type": "stream",
     "text": [
      "/home/aapopovkin/venv/lib/python3.5/site-packages/numpy/lib/histograms.py:754: RuntimeWarning: invalid value encountered in greater_equal\n",
      "  keep = (tmp_a >= first_edge)\n",
      "/home/aapopovkin/venv/lib/python3.5/site-packages/numpy/lib/histograms.py:755: RuntimeWarning: invalid value encountered in less_equal\n",
      "  keep &= (tmp_a <= last_edge)\n"
     ]
    },
    {
     "data": {
      "image/png": "[encoded data removed]",
      "text/plain": [
       "<Figure size 432x288 with 1 Axes>"
      ]
     },
     "metadata": {
      "needs_background": "light"
     },
     "output_type": "display_data"
    }
   ],
   "source": [
    "win = []\n",
    "b = []\n",
    "m = []\n",
    "m2 = []\n",
    "c = []\n",
    "ds = data_set_big\n",
    "for i in range(100):\n",
    "    b_ = evaluate(stupid_solution, ds.train_data[i], ds.test_data[i], ds.ideal[i], ds.L)\n",
    "    m_ = evaluate(max_loglike_solution, ds.train_data[i], ds.test_data[i], ds.ideal[i], ds.L)\n",
    "    m2_ = evaluate(max_loglike_solution2, ds.train_data[i], ds.test_data[i], ds.ideal[i], ds.L)\n",
    "    c_ = evaluate(calibration_curve_solution, ds.train_data[i], ds.test_data[i], ds.ideal[i], ds.L)\n",
    "    if b_ == float('inf'):\n",
    "        continue\n",
    "    #print (b, m)\n",
    "    b.append(b_)\n",
    "    m.append(m_)\n",
    "    m2.append(m2_)\n",
    "    c.append(c_)\n",
    "    win.append(m_ - b_)\n",
    "print (np.mean(win))\n",
    "print (np.mean(b))\n",
    "print (np.mean(m))\n",
    "print (len(m))\n",
    "plt.hist(b, bins=20, alpha=0.5, label='stup')\n",
    "plt.hist(m, bins=20, alpha=0.5, label='max')\n",
    "plt.hist(m2, bins=20, alpha=0.5, label='max2')\n",
    "plt.hist(c, bins=20, alpha=0.5, label='cc')\n",
    "plt.legend()\n",
    "plt.grid()\n",
    "plt.show()"
   ]
  },
  {
   "cell_type": "code",
   "execution_count": 10,
   "metadata": {},
   "outputs": [],
   "source": [
    "loglike = lambda x: calc_bayesian_solve_loglike(x[0], x[1], data_set_small, 0)"
   ]
  },
  {
   "cell_type": "code",
   "execution_count": 11,
   "metadata": {},
   "outputs": [
    {
     "data": {
      "text/plain": [
       "(1.1288500225383182, 15.889671468585249)"
      ]
     },
     "execution_count": 11,
     "metadata": {},
     "output_type": "execute_result"
    }
   ],
   "source": [
    "data_set_small.alpha0[0], data_set_small.beta0[0]"
   ]
  },
  {
   "cell_type": "code",
   "execution_count": 12,
   "metadata": {},
   "outputs": [
    {
     "ename": "TypeError",
     "evalue": "calc_bayesian_solve_loglike() missing 1 required positional argument: 'L'",
     "output_type": "error",
     "traceback": [
      "\u001b[0;31m---------------------------------------------------------------------------\u001b[0m",
      "\u001b[0;31mTypeError\u001b[0m                                 Traceback (most recent call last)",
      "\u001b[0;32m<ipython-input-12-866c3d226356>\u001b[0m in \u001b[0;36m<module>\u001b[0;34m\u001b[0m\n\u001b[1;32m      2\u001b[0m \u001b[0;32mfor\u001b[0m \u001b[0mi\u001b[0m \u001b[0;32min\u001b[0m \u001b[0mnp\u001b[0m\u001b[0;34m.\u001b[0m\u001b[0mlinspace\u001b[0m\u001b[0;34m(\u001b[0m\u001b[0;36m1\u001b[0m\u001b[0;34m,\u001b[0m \u001b[0;36m2\u001b[0m\u001b[0;34m,\u001b[0m \u001b[0;36m5\u001b[0m\u001b[0;34m)\u001b[0m\u001b[0;34m:\u001b[0m\u001b[0;34m\u001b[0m\u001b[0m\n\u001b[1;32m      3\u001b[0m     \u001b[0mspace\u001b[0m \u001b[0;34m=\u001b[0m \u001b[0mnp\u001b[0m\u001b[0;34m.\u001b[0m\u001b[0mlinspace\u001b[0m\u001b[0;34m(\u001b[0m\u001b[0;36m1\u001b[0m\u001b[0;34m,\u001b[0m \u001b[0;36m20\u001b[0m\u001b[0;34m,\u001b[0m \u001b[0;36m100\u001b[0m\u001b[0;34m)\u001b[0m\u001b[0;34m\u001b[0m\u001b[0m\n\u001b[0;32m----> 4\u001b[0;31m     \u001b[0mplt\u001b[0m\u001b[0;34m.\u001b[0m\u001b[0mplot\u001b[0m\u001b[0;34m(\u001b[0m\u001b[0mspace\u001b[0m\u001b[0;34m,\u001b[0m \u001b[0;34m[\u001b[0m\u001b[0mloglike\u001b[0m\u001b[0;34m(\u001b[0m\u001b[0;34m(\u001b[0m\u001b[0mi\u001b[0m\u001b[0;34m,\u001b[0m \u001b[0ms\u001b[0m\u001b[0;34m)\u001b[0m\u001b[0;34m)\u001b[0m \u001b[0;32mfor\u001b[0m \u001b[0ms\u001b[0m \u001b[0;32min\u001b[0m \u001b[0mspace\u001b[0m\u001b[0;34m]\u001b[0m\u001b[0;34m,\u001b[0m \u001b[0mlabel\u001b[0m\u001b[0;34m=\u001b[0m\u001b[0mstr\u001b[0m\u001b[0;34m(\u001b[0m\u001b[0mi\u001b[0m\u001b[0;34m)\u001b[0m\u001b[0;34m)\u001b[0m\u001b[0;34m\u001b[0m\u001b[0m\n\u001b[0m\u001b[1;32m      5\u001b[0m \u001b[0;34m\u001b[0m\u001b[0m\n\u001b[1;32m      6\u001b[0m \u001b[0mplt\u001b[0m\u001b[0;34m.\u001b[0m\u001b[0mgrid\u001b[0m\u001b[0;34m(\u001b[0m\u001b[0;34m)\u001b[0m\u001b[0;34m\u001b[0m\u001b[0m\n",
      "\u001b[0;32m<ipython-input-12-866c3d226356>\u001b[0m in \u001b[0;36m<listcomp>\u001b[0;34m(.0)\u001b[0m\n\u001b[1;32m      2\u001b[0m \u001b[0;32mfor\u001b[0m \u001b[0mi\u001b[0m \u001b[0;32min\u001b[0m \u001b[0mnp\u001b[0m\u001b[0;34m.\u001b[0m\u001b[0mlinspace\u001b[0m\u001b[0;34m(\u001b[0m\u001b[0;36m1\u001b[0m\u001b[0;34m,\u001b[0m \u001b[0;36m2\u001b[0m\u001b[0;34m,\u001b[0m \u001b[0;36m5\u001b[0m\u001b[0;34m)\u001b[0m\u001b[0;34m:\u001b[0m\u001b[0;34m\u001b[0m\u001b[0m\n\u001b[1;32m      3\u001b[0m     \u001b[0mspace\u001b[0m \u001b[0;34m=\u001b[0m \u001b[0mnp\u001b[0m\u001b[0;34m.\u001b[0m\u001b[0mlinspace\u001b[0m\u001b[0;34m(\u001b[0m\u001b[0;36m1\u001b[0m\u001b[0;34m,\u001b[0m \u001b[0;36m20\u001b[0m\u001b[0;34m,\u001b[0m \u001b[0;36m100\u001b[0m\u001b[0;34m)\u001b[0m\u001b[0;34m\u001b[0m\u001b[0m\n\u001b[0;32m----> 4\u001b[0;31m     \u001b[0mplt\u001b[0m\u001b[0;34m.\u001b[0m\u001b[0mplot\u001b[0m\u001b[0;34m(\u001b[0m\u001b[0mspace\u001b[0m\u001b[0;34m,\u001b[0m \u001b[0;34m[\u001b[0m\u001b[0mloglike\u001b[0m\u001b[0;34m(\u001b[0m\u001b[0;34m(\u001b[0m\u001b[0mi\u001b[0m\u001b[0;34m,\u001b[0m \u001b[0ms\u001b[0m\u001b[0;34m)\u001b[0m\u001b[0;34m)\u001b[0m \u001b[0;32mfor\u001b[0m \u001b[0ms\u001b[0m \u001b[0;32min\u001b[0m \u001b[0mspace\u001b[0m\u001b[0;34m]\u001b[0m\u001b[0;34m,\u001b[0m \u001b[0mlabel\u001b[0m\u001b[0;34m=\u001b[0m\u001b[0mstr\u001b[0m\u001b[0;34m(\u001b[0m\u001b[0mi\u001b[0m\u001b[0;34m)\u001b[0m\u001b[0;34m)\u001b[0m\u001b[0;34m\u001b[0m\u001b[0m\n\u001b[0m\u001b[1;32m      5\u001b[0m \u001b[0;34m\u001b[0m\u001b[0m\n\u001b[1;32m      6\u001b[0m \u001b[0mplt\u001b[0m\u001b[0;34m.\u001b[0m\u001b[0mgrid\u001b[0m\u001b[0;34m(\u001b[0m\u001b[0;34m)\u001b[0m\u001b[0;34m\u001b[0m\u001b[0m\n",
      "\u001b[0;32m<ipython-input-10-066f1a9497e5>\u001b[0m in \u001b[0;36m<lambda>\u001b[0;34m(x)\u001b[0m\n\u001b[0;32m----> 1\u001b[0;31m \u001b[0mloglike\u001b[0m \u001b[0;34m=\u001b[0m \u001b[0;32mlambda\u001b[0m \u001b[0mx\u001b[0m\u001b[0;34m:\u001b[0m \u001b[0mcalc_bayesian_solve_loglike\u001b[0m\u001b[0;34m(\u001b[0m\u001b[0mx\u001b[0m\u001b[0;34m[\u001b[0m\u001b[0;36m0\u001b[0m\u001b[0;34m]\u001b[0m\u001b[0;34m,\u001b[0m \u001b[0mx\u001b[0m\u001b[0;34m[\u001b[0m\u001b[0;36m1\u001b[0m\u001b[0;34m]\u001b[0m\u001b[0;34m,\u001b[0m \u001b[0mdata_set_small\u001b[0m\u001b[0;34m,\u001b[0m \u001b[0;36m0\u001b[0m\u001b[0;34m)\u001b[0m\u001b[0;34m\u001b[0m\u001b[0m\n\u001b[0m",
      "\u001b[0;31mTypeError\u001b[0m: calc_bayesian_solve_loglike() missing 1 required positional argument: 'L'"
     ]
    },
    {
     "data": {
      "text/plain": [
       "<Figure size 1224x432 with 0 Axes>"
      ]
     },
     "metadata": {},
     "output_type": "display_data"
    }
   ],
   "source": [
    "plt.figure(figsize=(17, 6))\n",
    "for i in np.linspace(1, 2, 5):\n",
    "    space = np.linspace(1, 20, 100)\n",
    "    plt.plot(space, [loglike((i, s)) for s in space], label=str(i))\n",
    "    \n",
    "plt.grid()\n",
    "plt.legend()\n",
    "plt.show()"
   ]
  },
  {
   "cell_type": "code",
   "execution_count": null,
   "metadata": {},
   "outputs": [],
   "source": [
    "max([\n",
    "        loglike((x, y)) for x in np.linspace(1, 2, 100) for y in np.linspace(1, 30, 200)\n",
    "])"
   ]
  },
  {
   "cell_type": "code",
   "execution_count": null,
   "metadata": {},
   "outputs": [],
   "source": [
    "minimize(fun=lambda x: -loglike(x), x0=(1, 1))"
   ]
  },
  {
   "cell_type": "code",
   "execution_count": null,
   "metadata": {},
   "outputs": [],
   "source": [
    "def formulae(train, val, L):\n",
    "    return L * val.shape[0] / val.sum() - 1, L * val.shape[0] / (L * val.shape[0] - val.sum()) - 1\n",
    "    return U1\n",
    "\n",
    "for i in range(10):\n",
    "    a = formulae(data_set_small.train_data[i], data_set_small.val_data[i], data_set_small.L)\n",
    "    print (a[0] * a[1])"
   ]
  },
  {
   "cell_type": "code",
   "execution_count": null,
   "metadata": {
    "scrolled": false
   },
   "outputs": [],
   "source": [
    "for i in range(10):\n",
    "    res = minimize(fun=lambda x: -calc_bayesian_solve_loglike(1 + np.exp(x[0]), 1 + np.exp(x[1]), data_set_small, i), x0=(1.1, 2.1))\n",
    "    print (1 + np.exp(res.x), res.success)\n",
    "    print(data_set_small.alpha0[i], data_set_small.beta0[i])\n",
    "    print (-res.fun)\n",
    "    print (max([\n",
    "        calc_bayesian_solve_loglike(1 + np.exp(x), 1 + np.exp(y), data_set_small, i)\n",
    "        for x in np.linspace(1, 5, 30) for y in np.linspace(1, 200, 1000)\n",
    "    ]))"
   ]
  }
 ],
 "metadata": {
  "kernelspec": {
   "display_name": "Python 3",
   "language": "python",
   "name": "python3"
  },
  "language_info": {
   "codemirror_mode": {
    "name": "ipython",
    "version": 3
   },
   "file_extension": ".py",
   "mimetype": "text/x-python",
   "name": "python",
   "nbconvert_exporter": "python",
   "pygments_lexer": "ipython3",
   "version": "3.5.2"
  }
 },
 "nbformat": 4,
 "nbformat_minor": 2
}
