{
 "cells": [
  {
   "cell_type": "code",
   "execution_count": 1,
   "metadata": {},
   "outputs": [
    {
     "name": "stdout",
     "output_type": "stream",
     "text": [
      "\n",
      "WARNING: The TensorFlow contrib module will not be included in TensorFlow 2.0.\n",
      "For more information, please see:\n",
      "  * https://github.com/tensorflow/community/blob/master/rfcs/20180907-contrib-sunset.md\n",
      "  * https://github.com/tensorflow/addons\n",
      "If you depend on functionality not listed there, please file an issue.\n",
      "\n"
     ]
    }
   ],
   "source": [
    "from __future__ import absolute_import\n",
    "from __future__ import division\n",
    "from __future__ import print_function\n",
    "\n",
    "import os\n",
    "import numpy as np\n",
    "import pandas as pd\n",
    "import warnings\n",
    "from matplotlib import pyplot as plt\n",
    "from matplotlib.cm import rainbow\n",
    "import collections\n",
    "from tqdm import tqdm_notebook as tqdm\n",
    "import scipy.stats as sps\n",
    "import pickle\n",
    "\n",
    "import tensorflow as tf\n",
    "import tensorflow_probability as tfp\n",
    "from IPython.display import clear_output\n",
    "\n",
    "%matplotlib inline\n",
    "\n",
    "np.seterr(all='raise')\n",
    "tfd = tfp.distributions"
   ]
  },
  {
   "cell_type": "code",
   "execution_count": 3,
   "metadata": {},
   "outputs": [],
   "source": [
    "from datasets import *"
   ]
  },
  {
   "cell_type": "code",
   "execution_count": 2,
   "metadata": {},
   "outputs": [],
   "source": [
    "from basic_solutions import *\n",
    "\n",
    "#evaluate(stupid_solution, data_set_small.train_data[0], data_set_small.val_data[0], data_set_small.ideal[0], data_set_small.L)"
   ]
  },
  {
   "cell_type": "code",
   "execution_count": 5,
   "metadata": {},
   "outputs": [],
   "source": [
    "import pickle"
   ]
  },
  {
   "cell_type": "code",
   "execution_count": 4,
   "metadata": {},
   "outputs": [
    {
     "name": "stdout",
     "output_type": "stream",
     "text": [
      "10_10\t\t\t\t     datasets.py\r\n",
      "10_120\t\t\t\t     f\r\n",
      "10_30\t\t\t\t     graph_params.png\r\n",
      "10_300\t\t\t\t     hmc\r\n",
      "10_70\t\t\t\t     hmc-all01.ipynb\r\n",
      "=1.12.0\t\t\t\t     hmc_burnin_size.ipynb\r\n",
      "120_10\t\t\t\t     hmc-Copy1.ipynb\r\n",
      "120_120\t\t\t\t     hmc.ipynb\r\n",
      "120_30\t\t\t\t     hmc_sampling.ipynb\r\n",
      "120_300\t\t\t\t     hmc-stress.ipynb\r\n",
      "120_70\t\t\t\t     Kolesnikov-2012-master-thesis(1).pdf\r\n",
      "18-AUTOML-RGPE.pdf\t\t     max_loglike_method_generation-Copy1.ipynb\r\n",
      "300_10\t\t\t\t     max_loglike_method_generation.ipynb\r\n",
      "300_120\t\t\t\t     methods_and_compare_generation-Copy1.ipynb\r\n",
      "300_30\t\t\t\t     methods_and_compare_generation.ipynb\r\n",
      "300_300\t\t\t\t     methods_and_compare_grid.ipynb\r\n",
      "300_70\t\t\t\t     methods_and_compare_lab.ipynb\r\n",
      "30_10\t\t\t\t     plot_calibration_curve.ipynb\r\n",
      "30_120\t\t\t\t     plot_calibration_curve-MY.ipynb\r\n",
      "30_30\t\t\t\t     Popovkin_task_defence_2.0.pdf\r\n",
      "30_300\t\t\t\t     pracanalHW6-normal-dataset.ipynb\r\n",
      "30_70\t\t\t\t     ps_model(1).ipynb\r\n",
      "70_10\t\t\t\t     ps_model(2)-Copy1.ipynb\r\n",
      "70_120\t\t\t\t     ps_model(2).ipynb\r\n",
      "70_30\t\t\t\t     __pycache__\r\n",
      "70_300\t\t\t\t     RW5.pdf\r\n",
      "70_70\t\t\t\t     Ryan_adams_140814_bayesopt_ncap.pdf\r\n",
      "Alipov-CTR-prediction-slides(1).pdf  sample_graph.png\r\n",
      "analytic.homework.ipynb\t\t     spambase.data\r\n",
      "basic_solutions.py\t\t     spambase.data.1\r\n",
      "calibration_curve_meta_learning.pdf  task_defence_2.0.odp\r\n",
      "calibration_curve.png\t\t     task_defence_3.0.odp\r\n",
      "calibration.icml05.crc.rev3.pdf      task_defence.odp\r\n",
      "catboost_info\t\t\t     thouts\r\n",
      "CEC2007-LandgraafEibenNannen.pdf     train.csv\r\n",
      "CTR_distr.eps\t\t\t     US8315956.pdf\r\n",
      "curves_like_Artem.ipynb\t\t     vapnik15b.pdf\r\n",
      "datasets\t\t\t     vuk.pdf\r\n",
      "datasets_generation.ipynb\r\n"
     ]
    }
   ],
   "source": [
    "! ls "
   ]
  },
  {
   "cell_type": "code",
   "execution_count": 100,
   "metadata": {},
   "outputs": [],
   "source": [
    "d = None\n",
    "with open(\"300_30\", \"rb\") as f:\n",
    "    d = pickle.load(f)\n",
    "d = d[2]\n",
    "data = d"
   ]
  },
  {
   "cell_type": "code",
   "execution_count": 101,
   "metadata": {},
   "outputs": [
    {
     "name": "stdout",
     "output_type": "stream",
     "text": [
      "0.0016807983155377956 0.1876086457136562\n",
      "0.0016719146302272044 0.1877261229464081\n",
      "0.0017728790248595341 0.18796558436307317\n"
     ]
    },
    {
     "data": {
      "image/png": "[encoded data removed]",
      "text/plain": [
       "<Figure size 1080x288 with 3 Axes>"
      ]
     },
     "metadata": {
      "needs_background": "light"
     },
     "output_type": "display_data"
    }
   ],
   "source": [
    "plt.figure(figsize=(15, 4))\n",
    "for i in range(3):\n",
    "    plt.subplot(1, 3, i + 1)\n",
    "    d = data[:,:,i].copy()\n",
    "    print (d.min(), d.max())\n",
    "    d -= d.min() - 1e-4\n",
    "    d /= d.max()\n",
    "    d = np.log(d)\n",
    "    plt.imshow(d, cmap='hot', interpolation='nearest')\n",
    "plt.show()"
   ]
  },
  {
   "cell_type": "code",
   "execution_count": 102,
   "metadata": {},
   "outputs": [
    {
     "name": "stdout",
     "output_type": "stream",
     "text": [
      "-8.35502832391942e-05 0.0011479658499304914\n"
     ]
    },
    {
     "data": {
      "image/png": "[encoded data removed]",
      "text/plain": [
       "<Figure size 360x288 with 1 Axes>"
      ]
     },
     "metadata": {
      "needs_background": "light"
     },
     "output_type": "display_data"
    },
    {
     "name": "stdout",
     "output_type": "stream",
     "text": [
      "-0.9242899803348781 0.9242899803348781\n"
     ]
    },
    {
     "data": {
      "image/png": "[encoded data removed]",
      "text/plain": [
       "<Figure size 432x288 with 1 Axes>"
      ]
     },
     "metadata": {
      "needs_background": "light"
     },
     "output_type": "display_data"
    }
   ],
   "source": [
    "plt.figure(figsize=(5, 4))\n",
    "d = data[:,:,1] - data[:,:,0]\n",
    "print (d.min(), d.max())\n",
    "d[0][0] = 0\n",
    "d -= d.min()\n",
    "d /= d.max()\n",
    "plt.imshow(d, cmap='hot', interpolation='nearest')\n",
    "plt.show()\n",
    "\n",
    "a = d - d.T\n",
    "print (a.min(), a.max())\n",
    "plt.imshow(a, cmap='hot', interpolation='nearest')\n",
    "plt.show()"
   ]
  },
  {
   "cell_type": "code",
   "execution_count": null,
   "metadata": {},
   "outputs": [],
   "source": []
  }
 ],
 "metadata": {
  "kernelspec": {
   "display_name": "Python 3",
   "language": "python",
   "name": "python3"
  },
  "language_info": {
   "codemirror_mode": {
    "name": "ipython",
    "version": 3
   },
   "file_extension": ".py",
   "mimetype": "text/x-python",
   "name": "python",
   "nbconvert_exporter": "python",
   "pygments_lexer": "ipython3",
   "version": "3.5.2"
  }
 },
 "nbformat": 4,
 "nbformat_minor": 2
}
